{
 "cells": [
  {
   "cell_type": "code",
   "execution_count": 1,
   "id": "46f3f84f-0c36-4bdf-b2a4-cb239fe6f329",
   "metadata": {},
   "outputs": [
    {
     "name": "stdout",
     "output_type": "stream",
     "text": [
      "hello world!\n"
     ]
    }
   ],
   "source": [
    "print(\"hello world!\")"
   ]
  },
  {
   "cell_type": "code",
   "execution_count": 2,
   "id": "1aadfcdb-8e9c-4eee-add6-61d396244d3a",
   "metadata": {},
   "outputs": [
    {
     "data": {
      "text/plain": [
       "10"
      ]
     },
     "execution_count": 2,
     "metadata": {},
     "output_type": "execute_result"
    }
   ],
   "source": [
    "5+5"
   ]
  },
  {
   "cell_type": "markdown",
   "id": "0c9c099c-98af-4290-9180-1a4e06fbf241",
   "metadata": {},
   "source": [
    "nome = \"allan\""
   ]
  },
  {
   "cell_type": "code",
   "execution_count": 4,
   "id": "2367ecc6-0f03-4d6d-9cdc-5d039a248b07",
   "metadata": {},
   "outputs": [],
   "source": [
    "nome = \"allan\""
   ]
  },
  {
   "cell_type": "code",
   "execution_count": 5,
   "id": "7a3e8265-4270-4c96-b6f4-00870d1d5509",
   "metadata": {},
   "outputs": [
    {
     "data": {
      "text/plain": [
       "'allan'"
      ]
     },
     "execution_count": 5,
     "metadata": {},
     "output_type": "execute_result"
    }
   ],
   "source": [
    "nome"
   ]
  },
  {
   "cell_type": "code",
   "execution_count": 7,
   "id": "f88936ac-fa38-49b0-a335-dedeae7b02b7",
   "metadata": {},
   "outputs": [
    {
     "name": "stdout",
     "output_type": "stream",
     "text": [
      "allan\n"
     ]
    }
   ],
   "source": [
    "print(nome)"
   ]
  },
  {
   "cell_type": "code",
   "execution_count": 8,
   "id": "7f3d1300-b385-4034-91fb-b30e92565749",
   "metadata": {},
   "outputs": [],
   "source": [
    "x = 345"
   ]
  },
  {
   "cell_type": "code",
   "execution_count": 9,
   "id": "d59d9318-da01-47c7-9a1b-8ae482723cdb",
   "metadata": {},
   "outputs": [
    {
     "data": {
      "text/plain": [
       "347"
      ]
     },
     "execution_count": 9,
     "metadata": {},
     "output_type": "execute_result"
    }
   ],
   "source": [
    "x + 2 "
   ]
  },
  {
   "cell_type": "code",
   "execution_count": 10,
   "id": "2c28c519-1d50-49bc-8c02-34e9ab527077",
   "metadata": {},
   "outputs": [],
   "source": [
    "y = x + 2"
   ]
  },
  {
   "cell_type": "code",
   "execution_count": 11,
   "id": "447e6a4e-f8cf-4969-985f-83c17c6d31b4",
   "metadata": {},
   "outputs": [
    {
     "name": "stdout",
     "output_type": "stream",
     "text": [
      "347\n"
     ]
    }
   ],
   "source": [
    "print (y)"
   ]
  },
  {
   "cell_type": "code",
   "execution_count": 12,
   "id": "ec485e1d-1202-4053-91cd-1bbf9106c3da",
   "metadata": {},
   "outputs": [
    {
     "data": {
      "text/plain": [
       "347"
      ]
     },
     "execution_count": 12,
     "metadata": {},
     "output_type": "execute_result"
    }
   ],
   "source": [
    "y"
   ]
  },
  {
   "cell_type": "code",
   "execution_count": 27,
   "id": "bb33c32e-a88f-45ec-922e-2b45a69f9933",
   "metadata": {},
   "outputs": [],
   "source": [
    "b = 1"
   ]
  },
  {
   "cell_type": "code",
   "execution_count": 28,
   "id": "0cb3136e-d9d2-47b2-86d9-d6332f2f8518",
   "metadata": {},
   "outputs": [],
   "source": [
    "c = 2"
   ]
  },
  {
   "cell_type": "code",
   "execution_count": 29,
   "id": "aaa77f87-7540-4bb5-b81a-20da75ff6078",
   "metadata": {},
   "outputs": [],
   "source": [
    "y= ((x+3*b)/(2*x+c))"
   ]
  },
  {
   "cell_type": "code",
   "execution_count": 26,
   "id": "86840bc8-c978-4dc5-9bd8-76bd29525611",
   "metadata": {},
   "outputs": [],
   "source": [
    "y = (x+(3*b))/((2*x)+c)"
   ]
  },
  {
   "cell_type": "code",
   "execution_count": 31,
   "id": "51e4690b-476d-426c-9bbe-ecc72d53d175",
   "metadata": {},
   "outputs": [
    {
     "name": "stdout",
     "output_type": "stream",
     "text": [
      "0.5028901734104047\n"
     ]
    }
   ],
   "source": [
    "print(y)"
   ]
  },
  {
   "cell_type": "code",
   "execution_count": 33,
   "id": "48e10e7d-9873-4343-b9e0-11ed64b1bafc",
   "metadata": {},
   "outputs": [],
   "source": [
    "p = 5"
   ]
  },
  {
   "cell_type": "code",
   "execution_count": 34,
   "id": "d475c8e3-c884-4760-a3d3-cc265cf5255e",
   "metadata": {},
   "outputs": [],
   "source": [
    "q = 7"
   ]
  },
  {
   "cell_type": "code",
   "execution_count": 35,
   "id": "6344f373-3680-4d47-9f8b-702e1274e6a3",
   "metadata": {},
   "outputs": [],
   "source": [
    "x = (p > q) and (not(p == q))"
   ]
  },
  {
   "cell_type": "code",
   "execution_count": 36,
   "id": "f1fe0694-1015-4ca7-a2f9-e6ee0e813e5a",
   "metadata": {},
   "outputs": [],
   "source": [
    "y = (not(q < p)) or (q != p)"
   ]
  },
  {
   "cell_type": "code",
   "execution_count": 37,
   "id": "2a9ca08d-f639-41a7-a82e-47b0af7e4a36",
   "metadata": {},
   "outputs": [
    {
     "name": "stdout",
     "output_type": "stream",
     "text": [
      "False\n"
     ]
    }
   ],
   "source": [
    "print(x)"
   ]
  },
  {
   "cell_type": "code",
   "execution_count": 39,
   "id": "1d8d034a-d163-4149-b583-38dadb0309ac",
   "metadata": {},
   "outputs": [
    {
     "name": "stdout",
     "output_type": "stream",
     "text": [
      "True\n"
     ]
    }
   ],
   "source": [
    "print(y)"
   ]
  },
  {
   "cell_type": "code",
   "execution_count": 51,
   "id": "c5aae008-c11a-42d8-abfa-a05ca2a15c66",
   "metadata": {},
   "outputs": [],
   "source": [
    "a = True"
   ]
  },
  {
   "cell_type": "code",
   "execution_count": 52,
   "id": "5c43343d-4cdb-4c49-a7a2-2e6d742d9639",
   "metadata": {},
   "outputs": [
    {
     "data": {
      "text/plain": [
       "bool"
      ]
     },
     "execution_count": 52,
     "metadata": {},
     "output_type": "execute_result"
    }
   ],
   "source": [
    "type(a)"
   ]
  },
  {
   "cell_type": "code",
   "execution_count": 53,
   "id": "29972e61-4513-4f01-9709-432d271400e3",
   "metadata": {},
   "outputs": [],
   "source": [
    "a = 5.6"
   ]
  },
  {
   "cell_type": "code",
   "execution_count": 54,
   "id": "5ed0d5e2-f086-4326-9a71-a4076d889dbd",
   "metadata": {},
   "outputs": [
    {
     "data": {
      "text/plain": [
       "float"
      ]
     },
     "execution_count": 54,
     "metadata": {},
     "output_type": "execute_result"
    }
   ],
   "source": [
    "type(a)"
   ]
  },
  {
   "cell_type": "code",
   "execution_count": 57,
   "id": "9c183055-b6ba-4c48-ac76-7c99de6ccd86",
   "metadata": {},
   "outputs": [],
   "source": [
    "x= 45\n",
    "y = 21"
   ]
  },
  {
   "cell_type": "code",
   "execution_count": 58,
   "id": "3781c9ea-df03-4597-8a30-ab845e5e0287",
   "metadata": {},
   "outputs": [
    {
     "data": {
      "text/plain": [
       "66"
      ]
     },
     "execution_count": 58,
     "metadata": {},
     "output_type": "execute_result"
    }
   ],
   "source": [
    "x+y"
   ]
  },
  {
   "cell_type": "code",
   "execution_count": 59,
   "id": "ee52b7cf-4efe-4dcb-9526-22ff9a0c20da",
   "metadata": {},
   "outputs": [],
   "source": [
    "soma = x+y"
   ]
  },
  {
   "cell_type": "code",
   "execution_count": 60,
   "id": "ca77424c-ca0b-4718-a3c9-20db94a11726",
   "metadata": {},
   "outputs": [
    {
     "data": {
      "text/plain": [
       "int"
      ]
     },
     "execution_count": 60,
     "metadata": {},
     "output_type": "execute_result"
    }
   ],
   "source": [
    "type(soma)"
   ]
  },
  {
   "cell_type": "code",
   "execution_count": 64,
   "id": "b38012f7-e7f8-40e5-98f9-7709ff64bbf1",
   "metadata": {},
   "outputs": [
    {
     "name": "stdout",
     "output_type": "stream",
     "text": [
      "66\n"
     ]
    }
   ],
   "source": [
    "print(soma)"
   ]
  },
  {
   "cell_type": "code",
   "execution_count": 65,
   "id": "b34a8291-81eb-4bd9-9935-0fbfd647e361",
   "metadata": {},
   "outputs": [
    {
     "data": {
      "text/plain": [
       "2.142857142857143"
      ]
     },
     "execution_count": 65,
     "metadata": {},
     "output_type": "execute_result"
    }
   ],
   "source": [
    "x/y"
   ]
  },
  {
   "cell_type": "code",
   "execution_count": 66,
   "id": "2ac007b5-2aac-44cb-a511-5affb71cca86",
   "metadata": {},
   "outputs": [
    {
     "data": {
      "text/plain": [
       "2"
      ]
     },
     "execution_count": 66,
     "metadata": {},
     "output_type": "execute_result"
    }
   ],
   "source": [
    "x//y"
   ]
  },
  {
   "cell_type": "code",
   "execution_count": 67,
   "id": "40c2db6a-f66e-4541-9557-0d512de907ce",
   "metadata": {},
   "outputs": [
    {
     "data": {
      "text/plain": [
       "3"
      ]
     },
     "execution_count": 67,
     "metadata": {},
     "output_type": "execute_result"
    }
   ],
   "source": [
    "x%y"
   ]
  },
  {
   "cell_type": "code",
   "execution_count": 68,
   "id": "940d7675-4571-4062-b5cf-dc614cc35be2",
   "metadata": {},
   "outputs": [
    {
     "data": {
      "text/plain": [
       "3"
      ]
     },
     "execution_count": 68,
     "metadata": {},
     "output_type": "execute_result"
    }
   ],
   "source": [
    "x % y"
   ]
  },
  {
   "cell_type": "code",
   "execution_count": 69,
   "id": "ec343b44-3a3b-48bf-b733-d288c42a811c",
   "metadata": {},
   "outputs": [],
   "source": [
    "r = 100_000_000_000"
   ]
  },
  {
   "cell_type": "code",
   "execution_count": 70,
   "id": "5a10ed16-4738-4ca2-a094-56b2819ab788",
   "metadata": {},
   "outputs": [
    {
     "name": "stdout",
     "output_type": "stream",
     "text": [
      "100000000000\n"
     ]
    }
   ],
   "source": [
    "print(r)"
   ]
  },
  {
   "cell_type": "code",
   "execution_count": 71,
   "id": "daac2618-bb6c-4792-8382-634762bc596b",
   "metadata": {},
   "outputs": [
    {
     "data": {
      "text/plain": [
       "52175039830928973774433135986328125"
      ]
     },
     "execution_count": 71,
     "metadata": {},
     "output_type": "execute_result"
    }
   ],
   "source": [
    "x**y"
   ]
  },
  {
   "cell_type": "code",
   "execution_count": 1,
   "id": "66e4669a-22ba-489d-bb4e-5e877cfbc82f",
   "metadata": {},
   "outputs": [],
   "source": [
    "X=111111111111111111111111111111"
   ]
  },
  {
   "cell_type": "code",
   "execution_count": 2,
   "id": "e1e81ffc-452c-4298-b5e5-79d341757326",
   "metadata": {},
   "outputs": [],
   "source": [
    "y= X**2"
   ]
  },
  {
   "cell_type": "code",
   "execution_count": 3,
   "id": "16c67ef2-fb39-44e1-9906-dae6d90e5374",
   "metadata": {},
   "outputs": [
    {
     "name": "stdout",
     "output_type": "stream",
     "text": [
      "12345679012345679012345679012320987654320987654320987654321\n"
     ]
    }
   ],
   "source": [
    "print(y)"
   ]
  },
  {
   "cell_type": "code",
   "execution_count": 6,
   "id": "a416fbde-fcff-4627-a3c7-c59a2f94db7f",
   "metadata": {},
   "outputs": [],
   "source": [
    "x = 1"
   ]
  },
  {
   "cell_type": "code",
   "execution_count": 7,
   "id": "8e85b4a5-7d46-4352-be76-fb7a4214592a",
   "metadata": {},
   "outputs": [
    {
     "data": {
      "text/plain": [
       "12345679012345679012345679012320987654320987654320987654321"
      ]
     },
     "execution_count": 7,
     "metadata": {},
     "output_type": "execute_result"
    }
   ],
   "source": [
    "y"
   ]
  },
  {
   "cell_type": "code",
   "execution_count": 8,
   "id": "1a4f6e3e-2b2a-4d77-a96d-b73fb7ced828",
   "metadata": {},
   "outputs": [],
   "source": [
    "y = 4.5"
   ]
  },
  {
   "cell_type": "code",
   "execution_count": 9,
   "id": "a7d59956-8607-49f5-af73-6dcb9a430f2f",
   "metadata": {},
   "outputs": [
    {
     "data": {
      "text/plain": [
       "float"
      ]
     },
     "execution_count": 9,
     "metadata": {},
     "output_type": "execute_result"
    }
   ],
   "source": [
    "type (y)"
   ]
  },
  {
   "cell_type": "code",
   "execution_count": 12,
   "id": "04de79b2-7eb2-4a4a-81df-7c7e06b165ca",
   "metadata": {},
   "outputs": [],
   "source": [
    "soma = y"
   ]
  },
  {
   "cell_type": "code",
   "execution_count": 13,
   "id": "bebd24d9-025f-496c-ae0f-3eeb4054d7fb",
   "metadata": {},
   "outputs": [],
   "source": [
    "y = 4.5"
   ]
  },
  {
   "cell_type": "code",
   "execution_count": 14,
   "id": "b0b2f3ad-17cf-4bcc-94c0-4952c83b62e2",
   "metadata": {},
   "outputs": [
    {
     "data": {
      "text/plain": [
       "4"
      ]
     },
     "execution_count": 14,
     "metadata": {},
     "output_type": "execute_result"
    }
   ],
   "source": [
    "int(y)"
   ]
  },
  {
   "cell_type": "code",
   "execution_count": 15,
   "id": "6c8faf32-7439-41ab-8923-125357ac716d",
   "metadata": {},
   "outputs": [
    {
     "data": {
      "text/plain": [
       "4.5"
      ]
     },
     "execution_count": 15,
     "metadata": {},
     "output_type": "execute_result"
    }
   ],
   "source": [
    "y"
   ]
  },
  {
   "cell_type": "code",
   "execution_count": 16,
   "id": "1e648ecc-9d21-4104-a024-28cd6783957e",
   "metadata": {},
   "outputs": [],
   "source": [
    "x = True"
   ]
  },
  {
   "cell_type": "code",
   "execution_count": 17,
   "id": "07908786-ef8a-4bdd-8157-8df194a3b157",
   "metadata": {},
   "outputs": [
    {
     "data": {
      "text/plain": [
       "1"
      ]
     },
     "execution_count": 17,
     "metadata": {},
     "output_type": "execute_result"
    }
   ],
   "source": [
    "int(x)"
   ]
  },
  {
   "cell_type": "code",
   "execution_count": 18,
   "id": "92d6f25f-ceb8-4954-a6b9-0dd1990bfbef",
   "metadata": {},
   "outputs": [],
   "source": [
    "x=False"
   ]
  },
  {
   "cell_type": "code",
   "execution_count": 19,
   "id": "59a526ce-11a8-4040-8ba7-21c105b0a8dc",
   "metadata": {},
   "outputs": [
    {
     "data": {
      "text/plain": [
       "0"
      ]
     },
     "execution_count": 19,
     "metadata": {},
     "output_type": "execute_result"
    }
   ],
   "source": [
    "int(x)"
   ]
  },
  {
   "cell_type": "code",
   "execution_count": 20,
   "id": "84fa3c51-ed51-40a3-a1d9-1748de53ef47",
   "metadata": {},
   "outputs": [],
   "source": [
    "x=True"
   ]
  },
  {
   "cell_type": "code",
   "execution_count": 21,
   "id": "c5c37d27-9b1e-4e54-9201-5d2dfa081c84",
   "metadata": {},
   "outputs": [],
   "source": [
    "y=False"
   ]
  },
  {
   "cell_type": "code",
   "execution_count": 22,
   "id": "3dd2df9c-7dc8-46eb-9854-0327f652039b",
   "metadata": {},
   "outputs": [
    {
     "data": {
      "text/plain": [
       "False"
      ]
     },
     "execution_count": 22,
     "metadata": {},
     "output_type": "execute_result"
    }
   ],
   "source": [
    "x and y"
   ]
  },
  {
   "cell_type": "code",
   "execution_count": 23,
   "id": "5a4232b1-5f0a-415c-b15e-65438ecfba91",
   "metadata": {},
   "outputs": [
    {
     "data": {
      "text/plain": [
       "True"
      ]
     },
     "execution_count": 23,
     "metadata": {},
     "output_type": "execute_result"
    }
   ],
   "source": [
    "x or y"
   ]
  },
  {
   "cell_type": "code",
   "execution_count": 24,
   "id": "254c3757-a1cd-40e7-8987-b17b0f991394",
   "metadata": {},
   "outputs": [
    {
     "data": {
      "text/plain": [
       "False"
      ]
     },
     "execution_count": 24,
     "metadata": {},
     "output_type": "execute_result"
    }
   ],
   "source": [
    "not x "
   ]
  },
  {
   "cell_type": "code",
   "execution_count": 25,
   "id": "93d12de9-6703-43d2-b273-9ad5d0c06372",
   "metadata": {},
   "outputs": [
    {
     "data": {
      "text/plain": [
       "True"
      ]
     },
     "execution_count": 25,
     "metadata": {},
     "output_type": "execute_result"
    }
   ],
   "source": [
    "x"
   ]
  },
  {
   "cell_type": "code",
   "execution_count": 29,
   "id": "ba53e764-b584-4886-b08b-ee13e5d908df",
   "metadata": {},
   "outputs": [],
   "source": [
    "nome = \"allan\""
   ]
  },
  {
   "cell_type": "code",
   "execution_count": 31,
   "id": "687b5433-89b4-48b8-b801-dfc6ae25526f",
   "metadata": {},
   "outputs": [
    {
     "data": {
      "text/plain": [
       "str"
      ]
     },
     "execution_count": 31,
     "metadata": {},
     "output_type": "execute_result"
    }
   ],
   "source": [
    "type(nome)"
   ]
  },
  {
   "cell_type": "code",
   "execution_count": 32,
   "id": "690f0764-18d8-456f-ad9a-d783375d2f7e",
   "metadata": {},
   "outputs": [],
   "source": [
    "prenome = \"queiroz\""
   ]
  },
  {
   "cell_type": "code",
   "execution_count": 33,
   "id": "3cf7742c-e782-4255-a912-0826770e34b5",
   "metadata": {},
   "outputs": [],
   "source": [
    "nome_completo = nome + \" \" + prenome"
   ]
  },
  {
   "cell_type": "code",
   "execution_count": 34,
   "id": "c7e566ea-7aff-492b-899c-fbbae56d5e89",
   "metadata": {},
   "outputs": [
    {
     "data": {
      "text/plain": [
       "'allan queiroz'"
      ]
     },
     "execution_count": 34,
     "metadata": {},
     "output_type": "execute_result"
    }
   ],
   "source": [
    "nome_completo"
   ]
  },
  {
   "cell_type": "code",
   "execution_count": 35,
   "id": "ebaaf0a0-0f80-449d-83ae-53b4cd8d4fbc",
   "metadata": {},
   "outputs": [
    {
     "data": {
      "text/plain": [
       "str"
      ]
     },
     "execution_count": 35,
     "metadata": {},
     "output_type": "execute_result"
    }
   ],
   "source": [
    "type(nome_completo)"
   ]
  },
  {
   "cell_type": "code",
   "execution_count": 36,
   "id": "1b264d86-9a0c-43c7-98f1-b8cc05d8b0ed",
   "metadata": {},
   "outputs": [
    {
     "data": {
      "text/plain": [
       "'allanallanallanallan'"
      ]
     },
     "execution_count": 36,
     "metadata": {},
     "output_type": "execute_result"
    }
   ],
   "source": [
    "nome * 4"
   ]
  },
  {
   "cell_type": "code",
   "execution_count": 37,
   "id": "5778cd89-9299-45a8-af00-1c101a638149",
   "metadata": {},
   "outputs": [
    {
     "data": {
      "text/plain": [
       "'a'"
      ]
     },
     "execution_count": 37,
     "metadata": {},
     "output_type": "execute_result"
    }
   ],
   "source": [
    "nome[0]"
   ]
  },
  {
   "cell_type": "code",
   "execution_count": 38,
   "id": "f4b9d32c-9087-4df4-976b-11fa4015287b",
   "metadata": {},
   "outputs": [
    {
     "data": {
      "text/plain": [
       "'l'"
      ]
     },
     "execution_count": 38,
     "metadata": {},
     "output_type": "execute_result"
    }
   ],
   "source": [
    "nome[1]"
   ]
  },
  {
   "cell_type": "code",
   "execution_count": 39,
   "id": "f68b0f10-66bd-40f8-9f64-f4511d90c144",
   "metadata": {},
   "outputs": [
    {
     "data": {
      "text/plain": [
       "'a'"
      ]
     },
     "execution_count": 39,
     "metadata": {},
     "output_type": "execute_result"
    }
   ],
   "source": [
    "nome[0]"
   ]
  },
  {
   "cell_type": "code",
   "execution_count": 40,
   "id": "accbd886-3dc3-4486-8198-9d6138c50c77",
   "metadata": {},
   "outputs": [
    {
     "data": {
      "text/plain": [
       "'n'"
      ]
     },
     "execution_count": 40,
     "metadata": {},
     "output_type": "execute_result"
    }
   ],
   "source": [
    "nome[0]\n",
    "nome[1]\n",
    "nome[2]\n",
    "nome[3]\n",
    "nome[4]"
   ]
  },
  {
   "cell_type": "code",
   "execution_count": 41,
   "id": "863b4dfd-1f44-4911-8b2a-b62e33847540",
   "metadata": {},
   "outputs": [
    {
     "data": {
      "text/plain": [
       "'A'"
      ]
     },
     "execution_count": 41,
     "metadata": {},
     "output_type": "execute_result"
    }
   ],
   "source": [
    "chr(65)"
   ]
  },
  {
   "cell_type": "code",
   "execution_count": 42,
   "id": "5998f3a0-9257-4e85-b215-5a8b8eb5fd4c",
   "metadata": {},
   "outputs": [
    {
     "data": {
      "text/plain": [
       "'C'"
      ]
     },
     "execution_count": 42,
     "metadata": {},
     "output_type": "execute_result"
    }
   ],
   "source": [
    "chr(67)"
   ]
  },
  {
   "cell_type": "code",
   "execution_count": 43,
   "id": "4ec66488-90d4-4a61-91ad-dc053aaf63a4",
   "metadata": {},
   "outputs": [
    {
     "data": {
      "text/plain": [
       "97"
      ]
     },
     "execution_count": 43,
     "metadata": {},
     "output_type": "execute_result"
    }
   ],
   "source": [
    "ord( \"a\" )"
   ]
  },
  {
   "cell_type": "code",
   "execution_count": null,
   "id": "5a329158-a73d-4117-8312-0bb157d90429",
   "metadata": {},
   "outputs": [],
   "source": []
  },
  {
   "cell_type": "code",
   "execution_count": null,
   "id": "19d1acd1-9061-4df6-8afe-09903e521e4f",
   "metadata": {},
   "outputs": [],
   "source": []
  }
 ],
 "metadata": {
  "kernelspec": {
   "display_name": "Python 3 (ipykernel)",
   "language": "python",
   "name": "python3"
  },
  "language_info": {
   "codemirror_mode": {
    "name": "ipython",
    "version": 3
   },
   "file_extension": ".py",
   "mimetype": "text/x-python",
   "name": "python",
   "nbconvert_exporter": "python",
   "pygments_lexer": "ipython3",
   "version": "3.12.4"
  }
 },
 "nbformat": 4,
 "nbformat_minor": 5
}
